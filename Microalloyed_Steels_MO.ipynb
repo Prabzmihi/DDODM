{
  "nbformat": 4,
  "nbformat_minor": 0,
  "metadata": {
    "colab": {
      "provenance": [],
      "authorship_tag": "ABX9TyNRY9oJHdGuF83eq0d1wLfW",
      "include_colab_link": true
    },
    "kernelspec": {
      "name": "python3",
      "display_name": "Python 3"
    },
    "language_info": {
      "name": "python"
    }
  },
  "cells": [
    {
      "cell_type": "markdown",
      "metadata": {
        "id": "view-in-github",
        "colab_type": "text"
      },
      "source": [
        "<a href=\"https://colab.research.google.com/github/Prabzmihi/DDODM/blob/main/Microalloyed_Steels_MO.ipynb\" target=\"_parent\"><img src=\"https://colab.research.google.com/assets/colab-badge.svg\" alt=\"Open In Colab\"/></a>"
      ]
    },
    {
      "cell_type": "code",
      "execution_count": 8,
      "metadata": {
        "id": "jlrAsc84cjsr"
      },
      "outputs": [],
      "source": [
        "import pandas as pd\n",
        "import seaborn as sns\n",
        "import numpy as np\n",
        "from sklearn.ensemble import RandomForestRegressor\n",
        "from sklearn.model_selection import train_test_split, RandomizedSearchCV"
      ]
    },
    {
      "cell_type": "markdown",
      "source": [
        "###Question 1 - Answer (Data Preprocessing)"
      ],
      "metadata": {
        "id": "9S1fI4Rccpt4"
      }
    },
    {
      "cell_type": "code",
      "source": [
        "#Access files from Google Drive\n",
        "from google.colab import drive\n",
        "drive.mount('/content/gdrive')\n",
        "\n",
        "data = pd.read_excel(\"/content/gdrive/MyDrive/TIES5830/Metal_Data.xlsx\", header=0)"
      ],
      "metadata": {
        "colab": {
          "base_uri": "https://localhost:8080/"
        },
        "id": "cD6lUzGBc6ZK",
        "outputId": "8a3ca0fe-9ede-421a-af43-d1e3537e12d2"
      },
      "execution_count": 9,
      "outputs": [
        {
          "output_type": "stream",
          "name": "stdout",
          "text": [
            "Drive already mounted at /content/gdrive; to attempt to forcibly remount, call drive.mount(\"/content/gdrive\", force_remount=True).\n"
          ]
        }
      ]
    },
    {
      "cell_type": "code",
      "source": [
        "print(data.head())"
      ],
      "metadata": {
        "colab": {
          "base_uri": "https://localhost:8080/"
        },
        "id": "jtecN7RvernA",
        "outputId": "608406fe-69f1-495f-edba-08cc31211965"
      },
      "execution_count": 10,
      "outputs": [
        {
          "output_type": "stream",
          "name": "stdout",
          "text": [
            "    Nb     Ti      V  DATA NO Paper no.       C    Si    Mn     P      S  ...  \\\n",
            "0  0.0  0.000  0.000        5        E19  0.140  0.35  1.56  0.01  0.015  ...   \n",
            "1  0.0  0.000  0.096        6        E19  0.150  0.31  1.41  0.01  0.015  ...   \n",
            "2  0.0  0.075  0.000        9        h 1  0.054  0.03  0.54  0.00  0.000  ...   \n",
            "3  0.0  0.092  0.000       10        h 1  0.061  0.03  0.56  0.00  0.000  ...   \n",
            "4  0.0  0.092  0.000       11        h 1  0.055  0.03  0.55  0.00  0.000  ...   \n",
            "\n",
            "    Cr   Ce   Cu   Ca   Zr    O  Sn  YS(Mpa)  UTS(Mpa)   %EL  \n",
            "0  0.0  0.0  0.0  0.0  0.0  0.0   0    272.0     470.0  30.0  \n",
            "1  0.0  0.0  0.0  0.0  0.0  0.0   0    378.0     579.0  23.0  \n",
            "2  0.0  0.0  0.0  0.0  0.0  0.0   0    412.0       NaN   NaN  \n",
            "3  0.0  0.0  0.0  0.0  0.0  0.0   0    410.0       NaN   NaN  \n",
            "4  0.0  0.0  0.0  0.0  0.0  0.0   0    395.0       NaN   NaN  \n",
            "\n",
            "[5 rows x 25 columns]\n"
          ]
        }
      ]
    },
    {
      "cell_type": "code",
      "source": [
        "print(data.info())"
      ],
      "metadata": {
        "colab": {
          "base_uri": "https://localhost:8080/"
        },
        "id": "HTNLYyPMff8e",
        "outputId": "36528922-b86f-4953-f1f2-cf78503d41ec"
      },
      "execution_count": 11,
      "outputs": [
        {
          "output_type": "stream",
          "name": "stdout",
          "text": [
            "<class 'pandas.core.frame.DataFrame'>\n",
            "RangeIndex: 739 entries, 0 to 738\n",
            "Data columns (total 25 columns):\n",
            " #   Column      Non-Null Count  Dtype  \n",
            "---  ------      --------------  -----  \n",
            " 0   Nb          739 non-null    float64\n",
            " 1   Ti          739 non-null    float64\n",
            " 2   V           739 non-null    float64\n",
            " 3   DATA NO     739 non-null    int64  \n",
            " 4   Paper no.   739 non-null    object \n",
            " 5   C           739 non-null    float64\n",
            " 6   Si          739 non-null    float64\n",
            " 7   Mn          739 non-null    float64\n",
            " 8   P           739 non-null    float64\n",
            " 9   S           739 non-null    float64\n",
            " 10  Mo          739 non-null    float64\n",
            " 11  Ni          739 non-null    float64\n",
            " 12  Al          739 non-null    float64\n",
            " 13  N           739 non-null    float64\n",
            " 14  B           739 non-null    float64\n",
            " 15  Cr          739 non-null    float64\n",
            " 16  Ce          739 non-null    float64\n",
            " 17  Cu          739 non-null    float64\n",
            " 18  Ca          739 non-null    float64\n",
            " 19  Zr          739 non-null    float64\n",
            " 20  O           739 non-null    float64\n",
            " 21  Sn          739 non-null    int64  \n",
            " 22  YS(Mpa)     603 non-null    float64\n",
            " 23  UTS(Mpa)    538 non-null    float64\n",
            " 24  %EL         299 non-null    float64\n",
            "dtypes: float64(22), int64(2), object(1)\n",
            "memory usage: 144.5+ KB\n",
            "None\n"
          ]
        }
      ]
    },
    {
      "cell_type": "code",
      "source": [
        "print(data.describe())"
      ],
      "metadata": {
        "colab": {
          "base_uri": "https://localhost:8080/"
        },
        "id": "6yXkh1gFfikS",
        "outputId": "60ce37f4-c719-4031-b2bd-4fd609a63cbf"
      },
      "execution_count": 12,
      "outputs": [
        {
          "output_type": "stream",
          "name": "stdout",
          "text": [
            "               Nb          Ti           V     DATA NO           C          Si  \\\n",
            "count  739.000000  739.000000  739.000000  739.000000  739.000000  739.000000   \n",
            "mean     0.014490    0.007555    0.025546  254.529093    0.112910    0.255689   \n",
            "std      0.024305    0.020186    0.055370  143.193390    0.088669    0.132574   \n",
            "min      0.000000    0.000000    0.000000    1.000000    0.001200    0.000000   \n",
            "25%      0.000000    0.000000    0.000000  118.000000    0.069000    0.180000   \n",
            "50%      0.005000    0.000000    0.000000  274.000000    0.090000    0.280000   \n",
            "75%      0.025000    0.009000    0.030000  378.500000    0.150000    0.350000   \n",
            "max      0.450000    0.310000    0.800000  505.000000    1.030000    0.600000   \n",
            "\n",
            "               Mn           P           S          Mo  ...          Cr  \\\n",
            "count  739.000000  739.000000  739.000000  739.000000  ...  739.000000   \n",
            "mean     1.226204    0.013127    0.007229    0.026169  ...    0.046482   \n",
            "std      0.347358    0.033446    0.007539    0.103929  ...    0.168034   \n",
            "min      0.025000    0.000000    0.000000    0.000000  ...    0.000000   \n",
            "25%      1.145000    0.007000    0.002000    0.000000  ...    0.000000   \n",
            "50%      1.390000    0.011000    0.005000    0.000000  ...    0.000000   \n",
            "75%      1.450000    0.015000    0.010000    0.003000  ...    0.020000   \n",
            "max      1.630000    0.680000    0.042000    1.000000  ...    1.660000   \n",
            "\n",
            "               Ce          Cu          Ca          Zr           O     Sn  \\\n",
            "count  739.000000  739.000000  739.000000  739.000000  739.000000  739.0   \n",
            "mean     0.000737    0.037608    0.000029    0.000189    0.000374    0.0   \n",
            "std      0.003676    0.084788    0.000197    0.001037    0.001550    0.0   \n",
            "min      0.000000    0.000000    0.000000    0.000000    0.000000    0.0   \n",
            "25%      0.000000    0.000000    0.000000    0.000000    0.000000    0.0   \n",
            "50%      0.000000    0.000000    0.000000    0.000000    0.000000    0.0   \n",
            "75%      0.000000    0.020000    0.000000    0.000000    0.000000    0.0   \n",
            "max      0.020000    0.360000    0.001900    0.008000    0.009600    0.0   \n",
            "\n",
            "          YS(Mpa)     UTS(Mpa)         %EL  \n",
            "count  603.000000   538.000000  299.000000  \n",
            "mean   413.159735   559.480372   28.486957  \n",
            "std    104.264576   129.501714    7.214982  \n",
            "min    150.000000   292.000000    3.000000  \n",
            "25%    358.000000   493.000000   23.800000  \n",
            "50%    390.000000   529.000000   29.900000  \n",
            "75%    463.000000   596.000000   34.000000  \n",
            "max    798.000000  1790.000000   42.000000  \n",
            "\n",
            "[8 rows x 24 columns]\n"
          ]
        }
      ]
    },
    {
      "cell_type": "code",
      "source": [
        "alloying_elements = [\"Nb\", \"Ti\", \"V\", \"C\", \"Si\", \"Mn\", \"P\", \"S\", \"Mo\", \"Ni\", \"Al\", \"N\", \"B\", \"Cr\", \"Ce\", \"Cu\", \"Ca\", \"Zr\", \"O\", \"Sn\"]"
      ],
      "metadata": {
        "id": "FcE6w-9CQgLQ"
      },
      "execution_count": 13,
      "outputs": []
    },
    {
      "cell_type": "code",
      "source": [
        "df_ys = data[data[\"YS(Mpa)\"].notna()]\n",
        "selected_columns_ys = alloying_elements + [\"YS(Mpa)\"]\n",
        "df_ys = df_ys[selected_columns_ys]\n",
        "\n",
        "print(df_ys)\n",
        "\n",
        "train_ys, test_ys = train_test_split(df_ys, test_size=0.2, random_state=42)"
      ],
      "metadata": {
        "colab": {
          "base_uri": "https://localhost:8080/"
        },
        "id": "OwJOGuRESy8B",
        "outputId": "15dcac63-f081-4162-c14a-40ae582d130c"
      },
      "execution_count": 14,
      "outputs": [
        {
          "output_type": "stream",
          "name": "stdout",
          "text": [
            "        Nb     Ti      V      C    Si    Mn      P      S   Mo   Ni  ...  \\\n",
            "0    0.000  0.000  0.000  0.140  0.35  1.56  0.010  0.015  0.0  0.0  ...   \n",
            "1    0.000  0.000  0.096  0.150  0.31  1.41  0.010  0.015  0.0  0.0  ...   \n",
            "2    0.000  0.075  0.000  0.054  0.03  0.54  0.000  0.000  0.0  0.0  ...   \n",
            "3    0.000  0.092  0.000  0.061  0.03  0.56  0.000  0.000  0.0  0.0  ...   \n",
            "4    0.000  0.092  0.000  0.055  0.03  0.55  0.000  0.000  0.0  0.0  ...   \n",
            "..     ...    ...    ...    ...   ...   ...    ...    ...  ...  ...  ...   \n",
            "734  0.086  0.047  0.000  0.070  0.14  1.35  0.009  0.003  0.0  0.0  ...   \n",
            "735  0.100  0.000  0.000  0.120  0.14  1.15  0.010  0.010  0.0  0.0  ...   \n",
            "736  0.220  0.055  0.000  0.080  0.00  0.79  0.000  0.000  0.0  0.0  ...   \n",
            "737  0.450  0.310  0.000  0.100  0.08  1.47  0.000  0.000  0.0  0.0  ...   \n",
            "738  0.080  0.070  0.000  0.060  0.00  1.50  0.000  0.000  0.0  0.0  ...   \n",
            "\n",
            "          N    B   Cr   Ce   Cu   Ca   Zr    O  Sn  YS(Mpa)  \n",
            "0    0.0090  0.0  0.0  0.0  0.0  0.0  0.0  0.0   0    272.0  \n",
            "1    0.0130  0.0  0.0  0.0  0.0  0.0  0.0  0.0   0    378.0  \n",
            "2    0.0050  0.0  0.0  0.0  0.0  0.0  0.0  0.0   0    412.0  \n",
            "3    0.0050  0.0  0.0  0.0  0.0  0.0  0.0  0.0   0    410.0  \n",
            "4    0.0050  0.0  0.0  0.0  0.0  0.0  0.0  0.0   0    395.0  \n",
            "..      ...  ...  ...  ...  ...  ...  ...  ...  ..      ...  \n",
            "734  0.0070  0.0  0.0  0.0  0.0  0.0  0.0  0.0   0    648.0  \n",
            "735  0.0000  0.0  0.0  0.0  0.0  0.0  0.0  0.0   0    408.7  \n",
            "736  0.0055  0.0  0.0  0.0  0.0  0.0  0.0  0.0   0    529.0  \n",
            "737  0.0000  0.0  0.0  0.0  0.0  0.0  0.0  0.0   0    670.0  \n",
            "738  0.0000  0.0  0.0  0.0  0.0  0.0  0.0  0.0   0    607.0  \n",
            "\n",
            "[603 rows x 21 columns]\n"
          ]
        }
      ]
    },
    {
      "cell_type": "code",
      "source": [
        "df_uts = data[data[\"UTS(Mpa)\"].notna()]\n",
        "selected_columns_uts = alloying_elements + [\"UTS(Mpa)\"]\n",
        "df_uts = df_uts[selected_columns_uts]\n",
        "\n",
        "print(df_uts)\n",
        "\n",
        "train_uts, test_uts = train_test_split(df_uts, test_size=0.2, random_state=42)"
      ],
      "metadata": {
        "colab": {
          "base_uri": "https://localhost:8080/"
        },
        "id": "ME3GZ4_CVJD1",
        "outputId": "cc839b02-436f-4aad-e8b1-0dc2f77f6b19"
      },
      "execution_count": 15,
      "outputs": [
        {
          "output_type": "stream",
          "name": "stdout",
          "text": [
            "        Nb     Ti      V      C    Si    Mn      P      S    Mo    Ni  ...  \\\n",
            "0    0.000  0.000  0.000  0.140  0.35  1.56  0.010  0.015  0.00  0.00  ...   \n",
            "1    0.000  0.000  0.096  0.150  0.31  1.41  0.010  0.015  0.00  0.00  ...   \n",
            "53   0.000  0.000  0.000  0.207  0.22  1.28  0.001  0.006  0.52  0.61  ...   \n",
            "54   0.000  0.000  0.000  0.203  0.23  1.34  0.001  0.015  0.53  0.50  ...   \n",
            "55   0.000  0.000  0.000  0.200  0.22  1.29  0.001  0.027  0.51  0.62  ...   \n",
            "..     ...    ...    ...    ...   ...   ...    ...    ...   ...   ...  ...   \n",
            "733  0.086  0.011  0.000  0.030  0.16  1.49  0.013  0.001  0.00  0.16  ...   \n",
            "734  0.086  0.047  0.000  0.070  0.14  1.35  0.009  0.003  0.00  0.00  ...   \n",
            "735  0.100  0.000  0.000  0.120  0.14  1.15  0.010  0.010  0.00  0.00  ...   \n",
            "737  0.450  0.310  0.000  0.100  0.08  1.47  0.000  0.000  0.00  0.00  ...   \n",
            "738  0.080  0.070  0.000  0.060  0.00  1.50  0.000  0.000  0.00  0.00  ...   \n",
            "\n",
            "         N    B    Cr   Ce    Cu   Ca   Zr    O  Sn  UTS(Mpa)  \n",
            "0    0.009  0.0  0.00  0.0  0.00  0.0  0.0  0.0   0     470.0  \n",
            "1    0.013  0.0  0.00  0.0  0.00  0.0  0.0  0.0   0     579.0  \n",
            "53   0.005  0.0  0.00  0.0  0.03  0.0  0.0  0.0   0     722.0  \n",
            "54   0.005  0.0  0.00  0.0  0.01  0.0  0.0  0.0   0     715.6  \n",
            "55   0.005  0.0  0.00  0.0  0.04  0.0  0.0  0.0   0     714.6  \n",
            "..     ...  ...   ...  ...   ...  ...  ...  ...  ..       ...  \n",
            "733  0.005  0.0  0.27  0.0  0.25  0.0  0.0  0.0   0     520.0  \n",
            "734  0.007  0.0  0.00  0.0  0.00  0.0  0.0  0.0   0     720.0  \n",
            "735  0.000  0.0  0.00  0.0  0.00  0.0  0.0  0.0   0     508.8  \n",
            "737  0.000  0.0  0.00  0.0  0.00  0.0  0.0  0.0   0     676.0  \n",
            "738  0.000  0.0  0.00  0.0  0.00  0.0  0.0  0.0   0     673.0  \n",
            "\n",
            "[538 rows x 21 columns]\n"
          ]
        }
      ]
    },
    {
      "cell_type": "code",
      "source": [
        "df_elon = data[data[\"%EL\"].notna()]\n",
        "selected_columns_elon = alloying_elements + [\"%EL\"]\n",
        "df_elon = df_elon[selected_columns_elon]\n",
        "\n",
        "print(df_elon)\n",
        "\n",
        "train_elon, test_elon = train_test_split(df_elon, test_size=0.2, random_state=42)"
      ],
      "metadata": {
        "colab": {
          "base_uri": "https://localhost:8080/"
        },
        "id": "GyxjaJiQVS3J",
        "outputId": "d8ce9ac6-e9c1-4002-cd2a-54e791616e4d"
      },
      "execution_count": 16,
      "outputs": [
        {
          "output_type": "stream",
          "name": "stdout",
          "text": [
            "        Nb     Ti      V      C    Si    Mn      P      S    Mo    Ni  ...  \\\n",
            "0    0.000  0.000  0.000  0.140  0.35  1.56  0.010  0.015  0.00  0.00  ...   \n",
            "1    0.000  0.000  0.096  0.150  0.31  1.41  0.010  0.015  0.00  0.00  ...   \n",
            "44   0.000  0.000  0.000  0.210  0.28  1.37  0.033  0.021  0.00  0.00  ...   \n",
            "45   0.000  0.000  0.000  0.210  0.28  1.37  0.033  0.021  0.00  0.00  ...   \n",
            "46   0.000  0.000  0.000  0.210  0.28  1.37  0.033  0.021  0.00  0.00  ...   \n",
            "..     ...    ...    ...    ...   ...   ...    ...    ...   ...   ...  ...   \n",
            "731  0.080  0.075  0.000  0.060  0.00  1.50  0.000  0.000  0.15  0.00  ...   \n",
            "732  0.080  0.070  0.000  0.006  0.00  1.50  0.000  0.000  0.00  0.00  ...   \n",
            "733  0.086  0.011  0.000  0.030  0.16  1.49  0.013  0.001  0.00  0.16  ...   \n",
            "735  0.100  0.000  0.000  0.120  0.14  1.15  0.010  0.010  0.00  0.00  ...   \n",
            "737  0.450  0.310  0.000  0.100  0.08  1.47  0.000  0.000  0.00  0.00  ...   \n",
            "\n",
            "          N      B    Cr   Ce    Cu   Ca   Zr    O  Sn   %EL  \n",
            "0    0.0090  0.000  0.00  0.0  0.00  0.0  0.0  0.0   0  30.0  \n",
            "1    0.0130  0.000  0.00  0.0  0.00  0.0  0.0  0.0   0  23.0  \n",
            "44   0.0065  0.000  0.00  0.0  0.00  0.0  0.0  0.0   0  27.0  \n",
            "45   0.0065  0.000  0.00  0.0  0.00  0.0  0.0  0.0   0  27.0  \n",
            "46   0.0065  0.000  0.00  0.0  0.00  0.0  0.0  0.0   0  31.0  \n",
            "..      ...    ...   ...  ...   ...  ...  ...  ...  ..   ...  \n",
            "731  0.0000  0.001  0.00  0.0  0.00  0.0  0.0  0.0   0  16.0  \n",
            "732  0.0000  0.000  0.00  0.0  0.00  0.0  0.0  0.0   0  20.0  \n",
            "733  0.0050  0.000  0.27  0.0  0.25  0.0  0.0  0.0   0  33.0  \n",
            "735  0.0000  0.000  0.00  0.0  0.00  0.0  0.0  0.0   0  31.5  \n",
            "737  0.0000  0.000  0.00  0.0  0.00  0.0  0.0  0.0   0  15.0  \n",
            "\n",
            "[299 rows x 21 columns]\n"
          ]
        }
      ]
    },
    {
      "cell_type": "markdown",
      "source": [
        "###Question 3 - Answer (Optimize the hyperparameters)"
      ],
      "metadata": {
        "id": "ohWUDH2JKBzn"
      }
    },
    {
      "cell_type": "code",
      "source": [
        "rf = RandomForestRegressor()\n",
        "\n",
        "param_dist = {\n",
        "    'n_estimators': [100, 200, 300],\n",
        "    'max_features': ['auto', 'sqrt', 'log2'],\n",
        "    'max_depth': [10, 20, None],\n",
        "    'min_samples_split': [2, 4, 6],\n",
        "    'min_samples_leaf': [1, 2, 4],\n",
        "    'bootstrap': [True, False]\n",
        "}"
      ],
      "metadata": {
        "id": "8B_Ysh-9cFNs"
      },
      "execution_count": 17,
      "outputs": []
    },
    {
      "cell_type": "code",
      "source": [
        "# Perform RandomizedSearch for YS\n",
        "rf_random_ys = RandomizedSearchCV(estimator=rf, param_distributions=param_dist,\n",
        "                               n_iter=100, cv=3, verbose=2, random_state=42, n_jobs=-1)\n",
        "\n",
        "# Fit the model with the training data\n",
        "rf_random_ys.fit(train_ys.drop(\"YS(Mpa)\", axis=1), train_ys[\"YS(Mpa)\"])\n",
        "best_params_ys = rf_random_ys.best_params_\n",
        "\n",
        "print(\"Best hyperparameters:\", best_params_ys)\n",
        "\n",
        "best_model = rf_random_ys.best_estimator_\n",
        "best_score = rf_random_ys.best_score_\n",
        "print(\"Best score:\", best_score)"
      ],
      "metadata": {
        "colab": {
          "base_uri": "https://localhost:8080/"
        },
        "id": "Vd314hClckiW",
        "outputId": "c7c81970-92e8-44b0-831a-fddffa925c00"
      },
      "execution_count": 18,
      "outputs": [
        {
          "output_type": "stream",
          "name": "stdout",
          "text": [
            "Fitting 3 folds for each of 100 candidates, totalling 300 fits\n",
            "Best hyperparameters: {'n_estimators': 100, 'min_samples_split': 4, 'min_samples_leaf': 1, 'max_features': 'sqrt', 'max_depth': None, 'bootstrap': True}\n",
            "Best score: 0.7014873749940714\n"
          ]
        }
      ]
    },
    {
      "cell_type": "code",
      "source": [
        "# Perform RandomizedSearch for UTS\n",
        "rf_random_uts = RandomizedSearchCV(estimator=rf, param_distributions=param_dist,\n",
        "                                   n_iter=100, cv=3, verbose=2, random_state=42, n_jobs=-1)\n",
        "\n",
        "rf_random_uts.fit(train_uts.drop(\"UTS(Mpa)\", axis=1), train_uts[\"UTS(Mpa)\"])\n",
        "best_params_uts = rf_random_uts.best_params_\n",
        "\n",
        "print(\"Best hyperparameters:\", best_params_uts)\n",
        "\n",
        "best_model = rf_random_uts.best_estimator_\n",
        "best_score = rf_random_uts.best_score_\n",
        "print(\"Best score:\", best_score)"
      ],
      "metadata": {
        "colab": {
          "base_uri": "https://localhost:8080/"
        },
        "id": "sM8aEPxUi5vB",
        "outputId": "b5db4f9c-a7e7-496b-bca9-a3eff87d3d8a"
      },
      "execution_count": 19,
      "outputs": [
        {
          "output_type": "stream",
          "name": "stdout",
          "text": [
            "Fitting 3 folds for each of 100 candidates, totalling 300 fits\n",
            "Best hyperparameters: {'n_estimators': 100, 'min_samples_split': 4, 'min_samples_leaf': 2, 'max_features': 'log2', 'max_depth': None, 'bootstrap': False}\n",
            "Best score: 0.821695169518179\n"
          ]
        }
      ]
    },
    {
      "cell_type": "code",
      "source": [
        "# Perform RandomizedSearch for ELON\n",
        "rf_random_elon = RandomizedSearchCV(estimator=rf, param_distributions=param_dist,\n",
        "                                    n_iter=100, cv=3, verbose=2, random_state=42, n_jobs=-1)\n",
        "\n",
        "rf_random_elon.fit(train_elon.drop(\"%EL\", axis=1), train_elon[\"%EL\"])\n",
        "\n",
        "best_params_elon = rf_random_elon.best_params_\n",
        "\n",
        "print(\"Best hyperparameters:\", best_params_elon)\n",
        "\n",
        "best_model = rf_random_elon.best_estimator_\n",
        "best_score = rf_random_elon.best_score_\n",
        "print(\"Best score:\", best_score)"
      ],
      "metadata": {
        "colab": {
          "base_uri": "https://localhost:8080/"
        },
        "id": "hI_7ZMAvjc0n",
        "outputId": "d5d86a53-b83a-454e-c5b1-f3d3a40d3691"
      },
      "execution_count": 20,
      "outputs": [
        {
          "output_type": "stream",
          "name": "stdout",
          "text": [
            "Fitting 3 folds for each of 100 candidates, totalling 300 fits\n",
            "Best hyperparameters: {'n_estimators': 200, 'min_samples_split': 2, 'min_samples_leaf': 1, 'max_features': 'sqrt', 'max_depth': 10, 'bootstrap': False}\n",
            "Best score: 0.6779151369104409\n"
          ]
        }
      ]
    },
    {
      "cell_type": "markdown",
      "source": [
        "##Question 4 - Answer (Final implement of the problem)"
      ],
      "metadata": {
        "id": "eTPzoiNLJ4PY"
      }
    },
    {
      "cell_type": "code",
      "source": [
        "import pandas as pd\n",
        "import numpy as np\n",
        "from sklearn.ensemble import RandomForestRegressor\n",
        "from sklearn.model_selection import train_test_split\n",
        "from scipy.optimize import minimize\n",
        "\n",
        "# Load the dataset from Google Drive\n",
        "from google.colab import drive\n",
        "drive.mount('/content/gdrive')\n",
        "\n",
        "data = pd.read_excel(\"/content/gdrive/MyDrive/TIES5830/Metal_Data.xlsx\", header=0)\n",
        "data = data[[\"Nb\", \"Ti\", \"V\", \"C\", \"Si\", \"Mn\", \"P\", \"S\", \"Mo\", \"Ni\", \"Al\", \"N\", \"B\", \"Cr\", \"Ce\", \"Cu\", \"Ca\", \"Zr\", \"O\", \"Sn\", \"YS(Mpa)\", \"UTS(Mpa)\", \"%EL\"]]\n",
        "\n",
        "# Alloying elements to be used as features\n",
        "alloying_elements = [\"Nb\", \"Ti\", \"V\", \"C\", \"Si\", \"Mn\", \"P\", \"S\", \"Mo\", \"Ni\", \"Al\", \"N\", \"B\", \"Cr\", \"Ce\", \"Cu\", \"Ca\", \"Zr\", \"O\", \"Sn\"]\n",
        "\n",
        "# Split the dataset into subsets for each objective\n",
        "df_ys = data[data[\"YS(Mpa)\"].notna()]\n",
        "selected_columns_ys = alloying_elements + [\"YS(Mpa)\"]\n",
        "df_ys = df_ys[selected_columns_ys]\n",
        "\n",
        "df_uts = data[data[\"UTS(Mpa)\"].notna()]\n",
        "selected_columns_uts = alloying_elements + [\"UTS(Mpa)\"]\n",
        "df_uts = df_uts[selected_columns_uts]\n",
        "\n",
        "df_elon = data[data[\"%EL\"].notna()]\n",
        "selected_columns_elon = alloying_elements + [\"%EL\"]\n",
        "df_elon = df_elon[selected_columns_elon]\n",
        "\n",
        "# Split into training and testing sets\n",
        "train_ys, test_ys = train_test_split(df_ys, test_size=0.2, random_state=42)\n",
        "train_uts, test_uts = train_test_split(df_uts, test_size=0.2, random_state=42)\n",
        "train_elon, test_elon = train_test_split(df_elon, test_size=0.2, random_state=42)\n",
        "\n",
        "# Build Random Forest Regressors with specified hyperparameters\n",
        "rf_ys = RandomForestRegressor(\n",
        "    n_estimators=200,\n",
        "    min_samples_split=4,\n",
        "    min_samples_leaf=1,\n",
        "    max_features='sqrt',\n",
        "    max_depth=None,\n",
        "    bootstrap=True\n",
        ")\n",
        "\n",
        "rf_uts = RandomForestRegressor(\n",
        "    n_estimators=100,\n",
        "    min_samples_split=4,\n",
        "    min_samples_leaf=2,\n",
        "    max_features='log2',\n",
        "    max_depth=None,\n",
        "    bootstrap=False\n",
        ")\n",
        "\n",
        "rf_elon = RandomForestRegressor(\n",
        "    n_estimators=200,\n",
        "    min_samples_split=2,\n",
        "    min_samples_leaf=1,\n",
        "    max_features='sqrt',\n",
        "    max_depth=10,\n",
        "    bootstrap=False\n",
        ")\n",
        "\n",
        "# Train the models for each objective\n",
        "rf_ys.fit(train_ys.drop(\"YS(Mpa)\", axis=1), train_ys[\"YS(Mpa)\"])\n",
        "rf_uts.fit(train_uts.drop(\"UTS(Mpa)\", axis=1), train_uts[\"UTS(Mpa)\"])\n",
        "rf_elon.fit(train_elon.drop(\"%EL\", axis=1), train_elon[\"%EL\"])\n",
        "\n",
        "# Define functions to predict objective values with valid feature names\n",
        "def ys_function(x):\n",
        "    df_x = pd.DataFrame([x], columns=alloying_elements)  # Ensure valid feature names\n",
        "    return rf_ys.predict(df_x)[0]  # Predict yield strength\n",
        "\n",
        "def uts_function(x):\n",
        "    df_x = pd.DataFrame([x], columns=alloying_elements)  # Ensure valid feature names\n",
        "    return rf_uts.predict(df_x)[0]  # Predict ultimate tensile strength\n",
        "\n",
        "def elon_function(x):\n",
        "    df_x = pd.DataFrame([x], columns=alloying_elements)  # Ensure valid feature names\n",
        "    return rf_elon.predict(df_x)[0]  # Predict percentage elongation\n",
        "\n",
        "# Define a reference point to guide optimization\n",
        "reference_point = [400, 500, 20]\n",
        "\n",
        "# Calculate the predicted objective values\n",
        "def scalar_objective(x):\n",
        "    ys = ys_function(x)\n",
        "    uts = uts_function(x)\n",
        "    elon = elon_function(x)\n",
        "\n",
        "    # Calculate the Euclidean distance from the reference point\n",
        "    dist = np.linalg.norm([ys - reference_point[0], uts - reference_point[1], elon - reference_point[2]])\n",
        "\n",
        "    return dist\n",
        "\n",
        "# Define bounds based on alloying elements\n",
        "bounds = [(data[col].min(), data[col].max()) for col in alloying_elements]\n",
        "\n",
        "# Define an initial guess for the optimization\n",
        "initial_guess = [((b[0] + b[1]) / 2) for b in bounds]\n",
        "\n",
        "# Solve the optimization problem with the scalar objective function\n",
        "result = minimize(scalar_objective, initial_guess, bounds=bounds, method='SLSQP')\n",
        "\n",
        "# Retrieve the optimal solution and the corresponding objective values\n",
        "optimal_solution = result.x  # Optimal decision variables\n",
        "optimal_ys = ys_function(optimal_solution)  # Predicted yield strength\n",
        "optimal_uts = uts_function(optimal_solution)  # Predicted ultimate tensile strength\n",
        "optimal_elon = elon_function(optimal_solution)  # Predicted percentage elongation\n",
        "\n",
        "# Display the optimal solution and the predicted objective values\n",
        "print(\"Optimal alloy composition:\", optimal_solution)\n",
        "print(\"Predicted yield strength (MPa):\", optimal_ys)\n",
        "print(\"Predicted ultimate tensile strength (MPa):\", optimal_uts)\n",
        "print(\"Predicted percentage elongation:\", optimal_elon)\n"
      ],
      "metadata": {
        "colab": {
          "base_uri": "https://localhost:8080/"
        },
        "id": "IOzCxWQsF-BJ",
        "outputId": "2992eb50-299b-4da4-b550-917992c4de04"
      },
      "execution_count": 21,
      "outputs": [
        {
          "output_type": "stream",
          "name": "stdout",
          "text": [
            "Drive already mounted at /content/gdrive; to attempt to forcibly remount, call drive.mount(\"/content/gdrive\", force_remount=True).\n",
            "Optimal alloy composition: [2.25000000e-01 1.55000000e-01 4.00000000e-01 5.15600000e-01\n",
            " 3.00000000e-01 8.27500000e-01 3.40000000e-01 2.09794894e-02\n",
            " 5.00000000e-01 2.02500000e+00 9.50000000e-02 3.50000000e-02\n",
            " 2.10000000e-03 8.30000000e-01 9.99023306e-03 1.80000000e-01\n",
            " 9.50000000e-04 3.99609322e-03 4.79531187e-03 0.00000000e+00]\n",
            "Predicted yield strength (MPa): 536.3232316774892\n",
            "Predicted ultimate tensile strength (MPa): 897.4888333333332\n",
            "Predicted percentage elongation: 20.96589460784314\n"
          ]
        }
      ]
    }
  ]
}